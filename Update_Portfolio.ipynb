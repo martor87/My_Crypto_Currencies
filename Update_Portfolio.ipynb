{
 "cells": [
  {
   "cell_type": "markdown",
   "metadata": {},
   "source": [
    "# Update Portfolio"
   ]
  },
  {
   "cell_type": "markdown",
   "metadata": {},
   "source": [
    "Run this scrpit to update your cryptocurrencies amount."
   ]
  },
  {
   "cell_type": "code",
   "execution_count": 46,
   "metadata": {
    "collapsed": true,
    "scrolled": true
   },
   "outputs": [],
   "source": [
    "from IPython.display import HTML"
   ]
  },
  {
   "cell_type": "code",
   "execution_count": 56,
   "metadata": {},
   "outputs": [
    {
     "data": {
      "text/html": [
       "<script>\n",
       "code_show=true; \n",
       "function code_toggle() {\n",
       " if (code_show){\n",
       " $('div.input').hide();\n",
       " } else {\n",
       " $('div.input').show();\n",
       " }\n",
       " code_show = !code_show\n",
       "} \n",
       "$( document ).ready(code_toggle);\n",
       "</script>\n",
       "<i><font size=\"2\">The raw code for this IPython notebook is by default hidden for easier reading.\n",
       "To toggle on/off the raw code, click <a href=\"javascript:code_toggle()\">here</a>.<i><font>"
      ],
      "text/plain": [
       "<IPython.core.display.HTML object>"
      ]
     },
     "execution_count": 56,
     "metadata": {},
     "output_type": "execute_result"
    }
   ],
   "source": [
    "HTML('''<script>\n",
    "code_show=true; \n",
    "function code_toggle() {\n",
    " if (code_show){\n",
    " $('div.input').hide();\n",
    " } else {\n",
    " $('div.input').show();\n",
    " }\n",
    " code_show = !code_show\n",
    "} \n",
    "$( document ).ready(code_toggle);\n",
    "</script>\n",
    "<i><font size=\"2\">The raw code for this IPython notebook is by default hidden for easier reading.\n",
    "To toggle on/off the raw code, click <a href=\"javascript:code_toggle()\">here</a>.<i><font>''')"
   ]
  },
  {
   "cell_type": "code",
   "execution_count": 48,
   "metadata": {
    "collapsed": true
   },
   "outputs": [],
   "source": [
    "\"\"\" \n",
    "Update Portfolio\n",
    "Created on Wed Jan  3 17:13:29 2018\n",
    "@author: marcel torretta\n",
    "\"\"\"\n",
    "import os\n",
    "import time\n",
    "from datetime import datetime, date, timedelta\n",
    "import pandas as pd\n",
    "import matplotlib.pyplot as plt\n",
    "os.chdir(\"C:/Users/marce/Documents/6_DS_Projects/projects/1_Criptocurrencies_webscraping\")"
   ]
  },
  {
   "cell_type": "code",
   "execution_count": 49,
   "metadata": {
    "collapsed": true
   },
   "outputs": [],
   "source": [
    "#%% My Deposits\n",
    "try:\n",
    "    deposits_df = pd.read_csv(\"./my_deposits.csv\", index_col = 0)\n",
    "except:\n",
    "    deposits_df = pd.DataFrame(columns = ['Date', 'Amount_BRL'])    \n",
    "deposits_df['Date'] = pd.to_datetime(deposits_df['Date'], format = '%Y-%m-%d')\n",
    "\n",
    "# My Cryptocurrency Amount\n",
    "my_crypto_df = pd.read_csv(\"./my_crypto.csv\", index_col = 0)\n",
    "my_crypto_df['My_Amount'] = pd.to_numeric(my_crypto_df['My_Amount'])"
   ]
  },
  {
   "cell_type": "code",
   "execution_count": 50,
   "metadata": {
    "scrolled": false
   },
   "outputs": [
    {
     "name": "stdout",
     "output_type": "stream",
     "text": [
      "Do you want to register a new deposit? Y or N \n",
      "Enter negative value for withdraws\n",
      "\n",
      "N\n"
     ]
    }
   ],
   "source": [
    "ip = input('Do you want to register a new deposit? Y or N \\nEnter negative value for withdraws\\n\\n')\n",
    "if (ip[0] == 'Y' or ip[0] == 'y'):\n",
    "    new_deposit_date = input('Please enter date of new deposit: dd-mm-yyyy: \\n')\n",
    "    new_deposit_amount = input('Please enter amount of new deposit: 0000.00 \\n')\n",
    "    new_deposit = pd.DataFrame.from_items([('Date',[new_deposit_date]), ('Amount_BRL',[new_deposit_amount])])\n",
    "    try:\n",
    "        new_deposit['Date'] = pd.to_datetime(new_deposit['Date'], format = '%d-%m-%Y')    \n",
    "    except:\n",
    "        print('Invalid Date - Please rerun')\n",
    "        raise TypeError('Invalid Date - Please rerun')\n",
    "    try:\n",
    "        new_deposit['Amount_BRL'] = pd.to_numeric(new_deposit['Amount_BRL'])\n",
    "    except:\n",
    "        print('Invalid Amount - Needs to be numeric, with \\'.\\' as separator. Please rerun')\n",
    "        raise TypeError('Invalid Amount - Please rerun')\n",
    "        \n",
    "    deposits_df = pd.concat([deposits_df, new_deposit], ignore_index = True, axis = 0)  \n",
    "    deposits_df.to_csv(\"my_deposits.csv\", float_format='%.2f')    \n",
    "else:\n",
    "    pass"
   ]
  },
  {
   "cell_type": "code",
   "execution_count": 51,
   "metadata": {},
   "outputs": [
    {
     "name": "stdout",
     "output_type": "stream",
     "text": [
      "Do you want to update your cryptocurrencies amount? Y or N \n",
      "N\n"
     ]
    }
   ],
   "source": [
    "'''\n",
    "Cryptocurrency ID needs to be the same as given by 'https://coinmarketcap.com/'\n",
    "'''\n",
    "ip2 = input('Do you want to update your cryptocurrencies amount? Y or N \\n')\n",
    "if (ip2[0] == 'Y' or ip2[0] == 'y'):\n",
    "    w = 'Y'\n",
    "    while(w == 'Y' or w =='y'):\n",
    "        ip3 = input('Press 1 to add new currency\\nPress 2 to rearrange current currencies\\n')\n",
    "        if(ip3 == '1'):\n",
    "            ip_n = input('Enter the ID (Symbol) of the cryptocurrency: \\n')\n",
    "            ip_a = input('Enter the amount of the cryptocurrency: \\n')\n",
    "            # tests if ID exists\n",
    "            if(ip_n in my_crypto_df['ID'].values): \n",
    "                raise TypeError('ID already exists - Please rerun')\n",
    "            #creates new crypto df\n",
    "            new_crypto = pd.DataFrame.from_items([('ID',[ip_n]), ('My_Amount',[ip_a])])\n",
    "            try:\n",
    "                #tests if amount is numeric and concatenates with previous df\n",
    "                new_crypto['My_Amount'] = pd.to_numeric(new_crypto['My_Amount'])\n",
    "                my_crypto_df = pd.concat([my_crypto_df, new_crypto], ignore_index = True, axis = 0)  \n",
    "            except:\n",
    "                print('Invalid Amount - Needs to be numeric, with \\'.\\' as separator. Please rerun')\n",
    "                raise TypeError('Invalid Date - Please rerun')                \n",
    "        if(ip3 == '2'):\n",
    "            try:\n",
    "                # Tries to update info on df. If it fails, input must be invalid\n",
    "                ip_n = input('Enter the ID (Symbol) of the cryptocurrency: \\n')\n",
    "                ip_a = input('Enter the updated amount of the cryptocurrency: \\n')\n",
    "                my_crypto_df.loc[my_crypto_df['ID'] == ip_n, 'My_Amount'] = float(ip_a)\n",
    "                if not ip_n in my_crypto_df['ID'].values:\n",
    "                    print('ID not found on list of currenc cryptocurrencies - No change will be made')\n",
    "            except: \n",
    "                print('Invalid ID or Amount - Please rerun')\n",
    "                raise TypeError('Invalid ID or Amount - Please rerun')\n",
    "\n",
    "        w = input(\"Do you want to make another change? Y or N \\n\")\n",
    "    my_crypto_df.to_csv(\"my_crypto.csv\", float_format='%.8f') \n",
    "else:\n",
    "    pass\n"
   ]
  },
  {
   "cell_type": "code",
   "execution_count": 52,
   "metadata": {
    "collapsed": true
   },
   "outputs": [],
   "source": [
    "my_crypto_df.loc[my_crypto_df['ID'] == 'XX', 'My_Amount'] = 0.123 "
   ]
  },
  {
   "cell_type": "markdown",
   "metadata": {},
   "source": [
    "## My Deposits"
   ]
  },
  {
   "cell_type": "code",
   "execution_count": 53,
   "metadata": {},
   "outputs": [
    {
     "data": {
      "text/html": [
       "<div>\n",
       "<style>\n",
       "    .dataframe thead tr:only-child th {\n",
       "        text-align: right;\n",
       "    }\n",
       "\n",
       "    .dataframe thead th {\n",
       "        text-align: left;\n",
       "    }\n",
       "\n",
       "    .dataframe tbody tr th {\n",
       "        vertical-align: top;\n",
       "    }\n",
       "</style>\n",
       "<table border=\"1\" class=\"dataframe\">\n",
       "  <thead>\n",
       "    <tr style=\"text-align: right;\">\n",
       "      <th></th>\n",
       "      <th>Date</th>\n",
       "      <th>Amount_BRL</th>\n",
       "    </tr>\n",
       "  </thead>\n",
       "  <tbody>\n",
       "    <tr>\n",
       "      <th>0</th>\n",
       "      <td>2017-10-18</td>\n",
       "      <td>1200.77</td>\n",
       "    </tr>\n",
       "    <tr>\n",
       "      <th>1</th>\n",
       "      <td>2017-10-19</td>\n",
       "      <td>2199.98</td>\n",
       "    </tr>\n",
       "    <tr>\n",
       "      <th>2</th>\n",
       "      <td>2017-10-20</td>\n",
       "      <td>2000.00</td>\n",
       "    </tr>\n",
       "    <tr>\n",
       "      <th>3</th>\n",
       "      <td>2017-10-29</td>\n",
       "      <td>500.02</td>\n",
       "    </tr>\n",
       "    <tr>\n",
       "      <th>4</th>\n",
       "      <td>2017-10-30</td>\n",
       "      <td>500.00</td>\n",
       "    </tr>\n",
       "    <tr>\n",
       "      <th>5</th>\n",
       "      <td>2017-10-31</td>\n",
       "      <td>2650.07</td>\n",
       "    </tr>\n",
       "    <tr>\n",
       "      <th>6</th>\n",
       "      <td>2000-01-01</td>\n",
       "      <td>1000.00</td>\n",
       "    </tr>\n",
       "    <tr>\n",
       "      <th>7</th>\n",
       "      <td>2017-02-02</td>\n",
       "      <td>2000.00</td>\n",
       "    </tr>\n",
       "  </tbody>\n",
       "</table>\n",
       "</div>"
      ],
      "text/plain": [
       "        Date  Amount_BRL\n",
       "0 2017-10-18     1200.77\n",
       "1 2017-10-19     2199.98\n",
       "2 2017-10-20     2000.00\n",
       "3 2017-10-29      500.02\n",
       "4 2017-10-30      500.00\n",
       "5 2017-10-31     2650.07\n",
       "6 2000-01-01     1000.00\n",
       "7 2017-02-02     2000.00"
      ]
     },
     "execution_count": 53,
     "metadata": {},
     "output_type": "execute_result"
    }
   ],
   "source": [
    "deposits_df"
   ]
  },
  {
   "cell_type": "markdown",
   "metadata": {},
   "source": [
    "## My Cryptocurrencies"
   ]
  },
  {
   "cell_type": "code",
   "execution_count": 54,
   "metadata": {
    "scrolled": true
   },
   "outputs": [
    {
     "data": {
      "text/html": [
       "<div>\n",
       "<style>\n",
       "    .dataframe thead tr:only-child th {\n",
       "        text-align: right;\n",
       "    }\n",
       "\n",
       "    .dataframe thead th {\n",
       "        text-align: left;\n",
       "    }\n",
       "\n",
       "    .dataframe tbody tr th {\n",
       "        vertical-align: top;\n",
       "    }\n",
       "</style>\n",
       "<table border=\"1\" class=\"dataframe\">\n",
       "  <thead>\n",
       "    <tr style=\"text-align: right;\">\n",
       "      <th></th>\n",
       "      <th>ID</th>\n",
       "      <th>My_Amount</th>\n",
       "    </tr>\n",
       "  </thead>\n",
       "  <tbody>\n",
       "    <tr>\n",
       "      <th>0</th>\n",
       "      <td>BTC</td>\n",
       "      <td>0.13000</td>\n",
       "    </tr>\n",
       "    <tr>\n",
       "      <th>1</th>\n",
       "      <td>ETH</td>\n",
       "      <td>0.14985</td>\n",
       "    </tr>\n",
       "    <tr>\n",
       "      <th>2</th>\n",
       "      <td>WAVES</td>\n",
       "      <td>19.99996</td>\n",
       "    </tr>\n",
       "    <tr>\n",
       "      <th>3</th>\n",
       "      <td>EOS</td>\n",
       "      <td>29.97000</td>\n",
       "    </tr>\n",
       "    <tr>\n",
       "      <th>4</th>\n",
       "      <td>MIOTA</td>\n",
       "      <td>54.94500</td>\n",
       "    </tr>\n",
       "    <tr>\n",
       "      <th>5</th>\n",
       "      <td>ADA</td>\n",
       "      <td>125.40000</td>\n",
       "    </tr>\n",
       "    <tr>\n",
       "      <th>6</th>\n",
       "      <td>XRP</td>\n",
       "      <td>500.00000</td>\n",
       "    </tr>\n",
       "  </tbody>\n",
       "</table>\n",
       "</div>"
      ],
      "text/plain": [
       "      ID  My_Amount\n",
       "0    BTC    0.13000\n",
       "1    ETH    0.14985\n",
       "2  WAVES   19.99996\n",
       "3    EOS   29.97000\n",
       "4  MIOTA   54.94500\n",
       "5    ADA  125.40000\n",
       "6    XRP  500.00000"
      ]
     },
     "execution_count": 54,
     "metadata": {},
     "output_type": "execute_result"
    }
   ],
   "source": [
    "my_crypto_df"
   ]
  },
  {
   "cell_type": "code",
   "execution_count": 55,
   "metadata": {
    "collapsed": true
   },
   "outputs": [],
   "source": [
    "my_crypto_df.to_csv(\"my_crypto.csv\", float_format='%.8f')"
   ]
  }
 ],
 "metadata": {
  "kernelspec": {
   "display_name": "Python 3",
   "language": "python",
   "name": "python3"
  },
  "language_info": {
   "codemirror_mode": {
    "name": "ipython",
    "version": 3
   },
   "file_extension": ".py",
   "mimetype": "text/x-python",
   "name": "python",
   "nbconvert_exporter": "python",
   "pygments_lexer": "ipython3",
   "version": "3.6.3"
  }
 },
 "nbformat": 4,
 "nbformat_minor": 2
}
