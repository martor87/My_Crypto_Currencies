{
 "cells": [
  {
   "cell_type": "markdown",
   "metadata": {},
   "source": [
    "# My Cryptocurrencies Portfolio\n",
    "\n",
    "<br>This notebook displays a record of your deposits, a table with your current portfolio and a time series graph with the evolution of your portfolio.<br>\n",
    "Currency data is fetched in real-time.<br>\n",
    "To update your deposits or cryptocurrencies amount information, run the Update_Portfolio script\n",
    "\n",
    "If / When graphs stop rendering, visit [your Plotly account](https://plot.ly/organize/home/) and delete all saved plots."
   ]
  },
  {
   "cell_type": "code",
   "execution_count": 30,
   "metadata": {
    "scrolled": true
   },
   "outputs": [],
   "source": [
    "from IPython.display import HTML"
   ]
  },
  {
   "cell_type": "code",
   "execution_count": 31,
   "metadata": {},
   "outputs": [
    {
     "data": {
      "text/html": [
       "<script>\n",
       "code_show=true; \n",
       "function code_toggle() {\n",
       " if (code_show){\n",
       " $('div.input').hide();\n",
       " } else {\n",
       " $('div.input').show();\n",
       " }\n",
       " code_show = !code_show\n",
       "} \n",
       "$( document ).ready(code_toggle);\n",
       "</script>\n",
       "<i> <font size=\"2\">The raw code for this IPython notebook is hidden for easier reading.\n",
       "To toggle on/off the raw code, click <a href=\"javascript:code_toggle()\">here</a>.<font><i>"
      ],
      "text/plain": [
       "<IPython.core.display.HTML object>"
      ]
     },
     "execution_count": 31,
     "metadata": {},
     "output_type": "execute_result"
    }
   ],
   "source": [
    "HTML('''<script>\n",
    "code_show=true; \n",
    "function code_toggle() {\n",
    " if (code_show){\n",
    " $('div.input').hide();\n",
    " } else {\n",
    " $('div.input').show();\n",
    " }\n",
    " code_show = !code_show\n",
    "} \n",
    "$( document ).ready(code_toggle);\n",
    "</script>\n",
    "<i> <font size=\"2\">The raw code for this IPython notebook is hidden for easier reading.\n",
    "To toggle on/off the raw code, click <a href=\"javascript:code_toggle()\">here</a>.<font><i>''') "
   ]
  },
  {
   "cell_type": "code",
   "execution_count": 32,
   "metadata": {},
   "outputs": [],
   "source": [
    "\"\"\" \n",
    "My Crypto Portfolio\n",
    "Created on Wed Jan  3 17:13:29 2018\n",
    "@author: marcel torretta\n",
    "\"\"\"\n",
    "import os\n",
    "import time\n",
    "from datetime import datetime, date, timedelta\n",
    "import pandas as pd\n",
    "import matplotlib.pyplot as plt\n",
    "import plotly\n",
    "plotly.tools.set_credentials_file(plotly.tools.set_credentials_file(username='your_plotly_username', api_key='your_plotly_api_key'))\n",
    "import plotly.plotly as py\n",
    "import plotly.graph_objs as go\n",
    "os.chdir(\"C:/Users/marce/Documents/6_DS_Projects/projects/1_Criptocurrencies_webscraping\")"
   ]
  },
  {
   "cell_type": "code",
   "execution_count": 33,
   "metadata": {},
   "outputs": [],
   "source": [
    "try:\n",
    "    tseries = pd.read_csv(\"./tseries.csv\", index_col = 0) \n",
    "except:\n",
    "    tseries = pd.DataFrame(columns = ['ID', 'Name', 'Price_USD', 'Change_24h_%','My_Amount', \n",
    "                                     'My_Amount_USD', 'My_Amount_BRL', 'Date', 'Deposited_BRL'])\n",
    "\n",
    "tseries['Date'] = pd.to_datetime(tseries['Date'])"
   ]
  },
  {
   "cell_type": "code",
   "execution_count": 34,
   "metadata": {
    "scrolled": true
   },
   "outputs": [],
   "source": [
    "#%% My Deposits\n",
    "try:\n",
    "    deposits_df = pd.read_csv(\"./my_deposits.csv\", index_col = 0)\n",
    "except:\n",
    "    deposits_df = pd.DataFrame(columns = ['Date', 'Amount_BRL'])\n",
    "    \n",
    "deposits_df['Date'] = pd.to_datetime(deposits_df['Date'], format = '%Y-%m-%d')"
   ]
  },
  {
   "cell_type": "markdown",
   "metadata": {},
   "source": [
    "## My Deposits"
   ]
  },
  {
   "cell_type": "code",
   "execution_count": 35,
   "metadata": {
    "scrolled": false
   },
   "outputs": [
    {
     "data": {
      "text/html": [
       "<div>\n",
       "<style scoped>\n",
       "    .dataframe tbody tr th:only-of-type {\n",
       "        vertical-align: middle;\n",
       "    }\n",
       "\n",
       "    .dataframe tbody tr th {\n",
       "        vertical-align: top;\n",
       "    }\n",
       "\n",
       "    .dataframe thead th {\n",
       "        text-align: right;\n",
       "    }\n",
       "</style>\n",
       "<table border=\"1\" class=\"dataframe\">\n",
       "  <thead>\n",
       "    <tr style=\"text-align: right;\">\n",
       "      <th></th>\n",
       "      <th>Date</th>\n",
       "      <th>Amount_BRL</th>\n",
       "    </tr>\n",
       "  </thead>\n",
       "  <tbody>\n",
       "    <tr>\n",
       "      <th>0</th>\n",
       "      <td>2017-10-18</td>\n",
       "      <td>1200.77</td>\n",
       "    </tr>\n",
       "    <tr>\n",
       "      <th>1</th>\n",
       "      <td>2017-10-19</td>\n",
       "      <td>2199.98</td>\n",
       "    </tr>\n",
       "    <tr>\n",
       "      <th>2</th>\n",
       "      <td>2017-10-20</td>\n",
       "      <td>2000.00</td>\n",
       "    </tr>\n",
       "    <tr>\n",
       "      <th>3</th>\n",
       "      <td>2017-10-29</td>\n",
       "      <td>500.02</td>\n",
       "    </tr>\n",
       "    <tr>\n",
       "      <th>4</th>\n",
       "      <td>2017-10-30</td>\n",
       "      <td>500.00</td>\n",
       "    </tr>\n",
       "    <tr>\n",
       "      <th>5</th>\n",
       "      <td>2017-10-31</td>\n",
       "      <td>2650.07</td>\n",
       "    </tr>\n",
       "  </tbody>\n",
       "</table>\n",
       "</div>"
      ],
      "text/plain": [
       "        Date  Amount_BRL\n",
       "0 2017-10-18     1200.77\n",
       "1 2017-10-19     2199.98\n",
       "2 2017-10-20     2000.00\n",
       "3 2017-10-29      500.02\n",
       "4 2017-10-30      500.00\n",
       "5 2017-10-31     2650.07"
      ]
     },
     "execution_count": 35,
     "metadata": {},
     "output_type": "execute_result"
    }
   ],
   "source": [
    "deposits_df"
   ]
  },
  {
   "cell_type": "code",
   "execution_count": 36,
   "metadata": {},
   "outputs": [],
   "source": [
    "# My Cryptocurrency Amount\n",
    "my_crypto_df = pd.read_csv(\"./my_crypto.csv\", index_col = 0)\n",
    "my_crypto_df['My_Amount'] = pd.to_numeric(my_crypto_df['My_Amount'])"
   ]
  },
  {
   "cell_type": "code",
   "execution_count": 37,
   "metadata": {},
   "outputs": [],
   "source": [
    "# Extract currency table from website using pandas read_html\n",
    "url = 'https://coinmarketcap.com/all/views/all/'\n",
    "read_currency_table = pd.read_html(url)[0]\n",
    "\n",
    "url2 = 'http://www.infomoney.com.br/mercados/cambio'\n",
    "\n",
    "dollar = pd.read_html(url2)[0].iloc[0,3]\n",
    "dollar = float(dollar) / 1000\n",
    "\n",
    "currency_table = pd.read_html(url)[0]"
   ]
  },
  {
   "cell_type": "code",
   "execution_count": 38,
   "metadata": {},
   "outputs": [],
   "source": [
    "# Splits 'Name' column from scraped table into 'ID' and 'Name'\n",
    "\n",
    "currency_table.insert(1,'ID',0)\n",
    "init = []\n",
    "name = []\n",
    "for n in currency_table['Name']:\n",
    "    init.append(n.split()[0])\n",
    "    name.append(n.split()[1])\n",
    "currency_table['ID'] = init\n",
    "currency_table['Name'] = name"
   ]
  },
  {
   "cell_type": "code",
   "execution_count": 39,
   "metadata": {},
   "outputs": [],
   "source": [
    "#%% My currency table\n",
    "# Subsetting currency table according to the currencies I possess, while also adding 'my_crypto' info.\n",
    "my_currency_table = pd.merge(currency_table, my_crypto_df, on = 'ID')"
   ]
  },
  {
   "cell_type": "code",
   "execution_count": 40,
   "metadata": {},
   "outputs": [],
   "source": [
    "#%% Select relevant columns\n",
    "my_currency_table = my_currency_table[['ID', 'Name', 'Price', 'My_Amount']]"
   ]
  },
  {
   "cell_type": "code",
   "execution_count": 41,
   "metadata": {},
   "outputs": [],
   "source": [
    "#%% Adjust columns names\n",
    "# Some names have spaces on it, which is not ideal. \n",
    "# This part makes collumn names easier to handle\n",
    "name = ''\n",
    "col_names = []\n",
    "for n in my_currency_table.columns.values.tolist():\n",
    "    try: \n",
    "        name = \"_\".join(n.split())\n",
    "    except:\n",
    "        name = n\n",
    "    name = name.replace('(','')\n",
    "    name = name.replace(')','')\n",
    "    if any(n in name for n in ['Price','Market','Volume','Supply']):\n",
    "        name = name + '_USD' \n",
    "    if ('Change' in n):\n",
    "        name = name + '_%'    \n",
    "    col_names.append(name)\n",
    "    \n",
    "my_currency_table.columns = col_names"
   ]
  },
  {
   "cell_type": "code",
   "execution_count": 42,
   "metadata": {},
   "outputs": [],
   "source": [
    "#%% Adjust column types\n",
    "'''\n",
    "Function to remove special characters from column values.\n",
    "Transforming to numeric when possible\n",
    "'''\n",
    "def adjust_type(s): \n",
    "    try:\n",
    "        s = s.replace('$','')\n",
    "        s = s.replace('%','')\n",
    "        s = pd.to_numeric(s)\n",
    "    except:\n",
    "        pass\n",
    "    return(s)"
   ]
  },
  {
   "cell_type": "code",
   "execution_count": 43,
   "metadata": {
    "scrolled": true
   },
   "outputs": [],
   "source": [
    "'''\n",
    "Apply function to whole dataframe, element-wise\n",
    "'''\n",
    "my_currency_table = my_currency_table.applymap(adjust_type)        "
   ]
  },
  {
   "cell_type": "code",
   "execution_count": 44,
   "metadata": {
    "scrolled": true
   },
   "outputs": [],
   "source": [
    "#%% My_amount in dollar\n",
    "my_currency_table['My_Amount_USD'] = my_currency_table['My_Amount'] * my_currency_table['Price_USD']\n",
    "my_currency_table['My_Amount_BRL'] = my_currency_table['My_Amount_USD'] * dollar"
   ]
  },
  {
   "cell_type": "code",
   "execution_count": 45,
   "metadata": {},
   "outputs": [],
   "source": [
    "my_currency_table = my_currency_table.round({'Price_USD':2, 'My_Amount_USD':2, 'My_Amount_BRL':2})"
   ]
  },
  {
   "cell_type": "markdown",
   "metadata": {},
   "source": [
    "##  My Portfolio"
   ]
  },
  {
   "cell_type": "code",
   "execution_count": 46,
   "metadata": {
    "scrolled": true
   },
   "outputs": [
    {
     "data": {
      "text/html": [
       "<div>\n",
       "<style scoped>\n",
       "    .dataframe tbody tr th:only-of-type {\n",
       "        vertical-align: middle;\n",
       "    }\n",
       "\n",
       "    .dataframe tbody tr th {\n",
       "        vertical-align: top;\n",
       "    }\n",
       "\n",
       "    .dataframe thead th {\n",
       "        text-align: right;\n",
       "    }\n",
       "</style>\n",
       "<table border=\"1\" class=\"dataframe\">\n",
       "  <thead>\n",
       "    <tr style=\"text-align: right;\">\n",
       "      <th></th>\n",
       "      <th>ID</th>\n",
       "      <th>Name</th>\n",
       "      <th>Price_USD</th>\n",
       "      <th>My_Amount</th>\n",
       "      <th>My_Amount_USD</th>\n",
       "      <th>My_Amount_BRL</th>\n",
       "    </tr>\n",
       "  </thead>\n",
       "  <tbody>\n",
       "    <tr>\n",
       "      <th>0</th>\n",
       "      <td>BTC</td>\n",
       "      <td>Bitcoin</td>\n",
       "      <td>3617.93</td>\n",
       "      <td>0.273096</td>\n",
       "      <td>988.04</td>\n",
       "      <td>3679.47</td>\n",
       "    </tr>\n",
       "    <tr>\n",
       "      <th>1</th>\n",
       "      <td>ETH</td>\n",
       "      <td>Ethereum</td>\n",
       "      <td>122.60</td>\n",
       "      <td>0.149850</td>\n",
       "      <td>18.37</td>\n",
       "      <td>68.42</td>\n",
       "    </tr>\n",
       "    <tr>\n",
       "      <th>2</th>\n",
       "      <td>EOS</td>\n",
       "      <td>EOS</td>\n",
       "      <td>2.84</td>\n",
       "      <td>29.970000</td>\n",
       "      <td>85.11</td>\n",
       "      <td>316.97</td>\n",
       "    </tr>\n",
       "    <tr>\n",
       "      <th>3</th>\n",
       "      <td>ADA</td>\n",
       "      <td>Cardano</td>\n",
       "      <td>0.04</td>\n",
       "      <td>125.400000</td>\n",
       "      <td>5.16</td>\n",
       "      <td>19.23</td>\n",
       "    </tr>\n",
       "    <tr>\n",
       "      <th>4</th>\n",
       "      <td>MIOTA</td>\n",
       "      <td>IOTA</td>\n",
       "      <td>0.27</td>\n",
       "      <td>54.945000</td>\n",
       "      <td>14.91</td>\n",
       "      <td>55.52</td>\n",
       "    </tr>\n",
       "    <tr>\n",
       "      <th>5</th>\n",
       "      <td>WAVES</td>\n",
       "      <td>Waves</td>\n",
       "      <td>2.77</td>\n",
       "      <td>19.999960</td>\n",
       "      <td>55.40</td>\n",
       "      <td>206.31</td>\n",
       "    </tr>\n",
       "  </tbody>\n",
       "</table>\n",
       "</div>"
      ],
      "text/plain": [
       "      ID      Name  Price_USD   My_Amount  My_Amount_USD  My_Amount_BRL\n",
       "0    BTC   Bitcoin    3617.93    0.273096         988.04        3679.47\n",
       "1    ETH  Ethereum     122.60    0.149850          18.37          68.42\n",
       "2    EOS       EOS       2.84   29.970000          85.11         316.97\n",
       "3    ADA   Cardano       0.04  125.400000           5.16          19.23\n",
       "4  MIOTA      IOTA       0.27   54.945000          14.91          55.52\n",
       "5  WAVES     Waves       2.77   19.999960          55.40         206.31"
      ]
     },
     "execution_count": 46,
     "metadata": {},
     "output_type": "execute_result"
    }
   ],
   "source": [
    "my_currency_table"
   ]
  },
  {
   "cell_type": "code",
   "execution_count": 47,
   "metadata": {},
   "outputs": [],
   "source": [
    "#%% Yields \n",
    "# Adding 'Date' and 'Deposited' information in order to build time series\n",
    "# The ts_day table ( Time Series - Day) compiles all relevant information of the day/time the script was run.\n",
    "\n",
    "ts_day =  my_currency_table\n",
    "ts_day['Date'] = pd.to_datetime(datetime.now())\n",
    "ts_day['Deposited_BRL'] = deposits_df['Amount_BRL'].sum()"
   ]
  },
  {
   "cell_type": "code",
   "execution_count": 48,
   "metadata": {},
   "outputs": [],
   "source": [
    "# The ts_day information will be added to the Time Series Table only if date is new, that is,\n",
    "# different from the last date on tseries. This is to avoid cluttered points on the graph\n",
    "try:\n",
    "    if not (pd.to_datetime(datetime.now()).minute == tseries.loc[tseries.index[-1],'Date'].minute):\n",
    "        tseries = pd.concat([tseries, ts_day], ignore_index = True, axis = 0, sort=True)[list(tseries.columns)]\n",
    "except:\n",
    "    tseries = pd.concat([tseries, ts_day], ignore_index = True, axis = 0, sort=True)[list(tseries.columns)]\n"
   ]
  },
  {
   "cell_type": "code",
   "execution_count": 49,
   "metadata": {},
   "outputs": [],
   "source": [
    "tseries = tseries.round({'Price_USD':2, 'My_Amount_USD':2, 'My_Amount_BRL':2})"
   ]
  },
  {
   "cell_type": "code",
   "execution_count": 50,
   "metadata": {},
   "outputs": [],
   "source": [
    "'''\n",
    "Yields Time Series\n",
    "Grouping table by date and getting sum of 'My_Amount_BRL of each group\n",
    "'''\n",
    "dates= []\n",
    "amount_by_date = []\n",
    "deposited_by_date = []\n",
    "\n",
    "for name, group in tseries.groupby('Date', sort = False):\n",
    "    dates.append(name)\n",
    "    amount_by_date.append(group['My_Amount_BRL'].sum())\n",
    "    deposited_by_date.append(group.loc[group.index[-1],'Deposited_BRL'])\n",
    "    "
   ]
  },
  {
   "cell_type": "code",
   "execution_count": 51,
   "metadata": {},
   "outputs": [],
   "source": [
    "d_total = go.Scatter(x = dates, y = amount_by_date, name = 'Total', mode = 'lines+markers')\n",
    "d_deposited = go.Scatter(x = dates, y = deposited_by_date, line = dict(shape = 'hv', dash = 'dash'), name = 'Cummulative Deposits')\n",
    "\n",
    "data = [d_total, d_deposited]\n",
    "\n",
    "l = []\n",
    "l_name = [] \n",
    "d = []\n",
    "\n",
    "for i in set(tseries['ID']):\n",
    "    l = list(tseries.loc[tseries['ID'] == i]['My_Amount_BRL'])\n",
    "    d = list(tseries.loc[tseries['ID'] == i]['Date'])\n",
    "    data.append(go.Scatter(x= d, y = l, name = i, opacity = 0.5, mode = 'lines+markers'))\n",
    "    "
   ]
  },
  {
   "cell_type": "code",
   "execution_count": 52,
   "metadata": {},
   "outputs": [],
   "source": [
    "layout = dict(\n",
    "    title='My Cryptocurrencies Portfolio',\n",
    "    xaxis=dict(\n",
    "        rangeselector=dict(\n",
    "            buttons=list([\n",
    "                dict(count=7,\n",
    "                     label='1w',\n",
    "                     step='day',\n",
    "                     stepmode='backward'),\n",
    "                dict(count=1,\n",
    "                     label='1m',\n",
    "                     step='month',\n",
    "                     stepmode='backward'),\n",
    "                dict(count=6,\n",
    "                     label='6m',\n",
    "                     step='month',\n",
    "                     stepmode='backward'),\n",
    "                dict(count=1,\n",
    "                    label='YTD',\n",
    "                    step='year',\n",
    "                    stepmode='todate'),\n",
    "                dict(count=1,\n",
    "                    label='1y',\n",
    "                    step='year',\n",
    "                    stepmode='backward'),\n",
    "                dict(step='all')\n",
    "            ])\n",
    "        )   \n",
    "    )\n",
    ")\n"
   ]
  },
  {
   "cell_type": "markdown",
   "metadata": {},
   "source": [
    "## Portfolio Time Series "
   ]
  },
  {
   "cell_type": "markdown",
   "metadata": {},
   "source": [
    "Plot is zoomable and interactive."
   ]
  },
  {
   "cell_type": "code",
   "execution_count": 53,
   "metadata": {
    "scrolled": false
   },
   "outputs": [
    {
     "data": {
      "text/html": [
       "<iframe id=\"igraph\" scrolling=\"no\" style=\"border:none;\" seamless=\"seamless\" src=\"https://plot.ly/~marceltorretta/165.embed\" height=\"525px\" width=\"100%\"></iframe>"
      ],
      "text/plain": [
       "<plotly.tools.PlotlyDisplay object>"
      ]
     },
     "execution_count": 53,
     "metadata": {},
     "output_type": "execute_result"
    }
   ],
   "source": [
    "fig = dict( data = data, layout = layout)\n",
    "py.iplot(fig)\n"
   ]
  },
  {
   "cell_type": "code",
   "execution_count": 54,
   "metadata": {},
   "outputs": [],
   "source": [
    "tseries.to_csv(\"tseries.csv\", float_format='%.8f')\n"
   ]
  }
 ],
 "metadata": {
  "kernelspec": {
   "display_name": "Python 3",
   "language": "python",
   "name": "python3"
  },
  "language_info": {
   "codemirror_mode": {
    "name": "ipython",
    "version": 3
   },
   "file_extension": ".py",
   "mimetype": "text/x-python",
   "name": "python",
   "nbconvert_exporter": "python",
   "pygments_lexer": "ipython3",
   "version": "3.6.7"
  }
 },
 "nbformat": 4,
 "nbformat_minor": 2
}
